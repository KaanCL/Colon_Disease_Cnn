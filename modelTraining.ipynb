{
 "cells": [
  {
   "cell_type": "markdown",
   "metadata": {},
   "source": [
    "# 1|Importıng Modules"
   ]
  },
  {
   "cell_type": "code",
   "execution_count": null,
   "metadata": {},
   "outputs": [],
   "source": [
    "import os\n",
    "import random\n",
    "import tensorflow as tf\n",
    "import numpy as np\n",
    "import matplotlib.pyplot as plt\n",
    "from tensorflow.keras.layers import *\n",
    "from tensorflow.keras.models import *\n",
    "from tensorflow.keras.preprocessing import image\n",
    "import plotly.express as px\n",
    "import matplotlib.pyplot as plt\n",
    "import seaborn as sns\n",
    "import cv2"
   ]
  },
  {
   "cell_type": "markdown",
   "metadata": {},
   "source": [
    "# 2|EDA"
   ]
  },
  {
   "cell_type": "code",
   "execution_count": null,
   "metadata": {},
   "outputs": [],
   "source": [
    "\n",
    "test_set =  \"Dataset/test\"\n",
    "train_set = \"Dataset/train\"\n",
    "val_set =   \"Dataset/val\"\n",
    "\n",
    "class_names = os.listdir(train_set)\n",
    "sizes = [len(os.listdir(train_set + '/' + name)) for name in class_names]\n",
    "sizes"
   ]
  },
  {
   "cell_type": "code",
   "execution_count": null,
   "metadata": {},
   "outputs": [],
   "source": [
    "fig = px.pie(\n",
    "         names=class_names,\n",
    "         values=sizes,\n",
    "         width = 450,\n",
    "         title='Class Distribution',\n",
    "         hole=0.4\n",
    ")\n",
    "fig.update_layout({'title':{'x':0.45}})\n",
    "fig.show()"
   ]
  },
  {
   "cell_type": "code",
   "execution_count": 5,
   "metadata": {},
   "outputs": [],
   "source": [
    "def load_random_img(dir,label):\n",
    "     plt.figure(figsize=(10,10))\n",
    "     i=0\n",
    "     for label in class_names:\n",
    "      i+=1\n",
    "      plt.subplot(1,5,i)\n",
    "      file=random.choice(os.listdir(dir+'/test/'+label))\n",
    "      image_path = os.path.join(dir+'/test/'+label, file)\n",
    "      print(image_path)\n",
    "\n",
    "      img=cv2.imread(image_path)\n",
    "      plt.title(label)\n",
    "      plt.imshow(img)\n",
    "      plt.grid(None)\n",
    "      plt.axis('off')\n"
   ]
  },
  {
   "cell_type": "code",
   "execution_count": null,
   "metadata": {},
   "outputs": [],
   "source": [
    "for i in range(3):\n",
    "    load_random_img(\"Dataset\", class_names)"
   ]
  },
  {
   "cell_type": "markdown",
   "metadata": {},
   "source": [
    "# 3|Data Spliting"
   ]
  },
  {
   "cell_type": "code",
   "execution_count": 8,
   "metadata": {},
   "outputs": [],
   "source": [
    "train_datagen = image.ImageDataGenerator(\n",
    "    rotation_range=15,\n",
    "    shear_range=0.2,\n",
    "    zoom_range=0.2,\n",
    "    horizontal_flip=True,\n",
    "    width_shift_range=0.1,\n",
    "    height_shift_range=0.1\n",
    ")\n",
    "validation_datagen= image.ImageDataGenerator(    rotation_range=15,\n",
    "    shear_range=0.2,\n",
    "    zoom_range=0.2,\n",
    "    horizontal_flip=True,\n",
    "    width_shift_range=0.1,\n",
    "    height_shift_range=0.1)\n",
    "test_datagen= image.ImageDataGenerator(    rotation_range=15,\n",
    "    shear_range=0.2,\n",
    "    zoom_range=0.2,\n",
    "    horizontal_flip=True,\n",
    "    width_shift_range=0.1,\n",
    "    height_shift_range=0.1)\n"
   ]
  },
  {
   "cell_type": "code",
   "execution_count": null,
   "metadata": {},
   "outputs": [],
   "source": [
    "# image addressing\n",
    "train_generator = train_datagen.flow_from_directory(\n",
    "    train_set,\n",
    "    target_size = (224,224),\n",
    "    batch_size = 16,\n",
    "    class_mode = 'categorical')\n",
    "validation_generator = validation_datagen.flow_from_directory(\n",
    "    val_set,\n",
    "    target_size = (224,224),\n",
    "    batch_size = 16,\n",
    "    shuffle=True,\n",
    "    class_mode = 'categorical')\n",
    "test_generator = test_datagen.flow_from_directory(\n",
    "    test_set,\n",
    "    target_size = (224,224),\n",
    "    batch_size = 16,\n",
    "    class_mode = 'categorical')"
   ]
  },
  {
   "cell_type": "code",
   "execution_count": null,
   "metadata": {},
   "outputs": [],
   "source": [
    "train_generator.class_indices"
   ]
  },
  {
   "cell_type": "markdown",
   "metadata": {},
   "source": [
    "# 4|CNN MODEL"
   ]
  },
  {
   "cell_type": "code",
   "execution_count": null,
   "metadata": {},
   "outputs": [],
   "source": [
    "from tensorflow.keras import regularizers\n",
    "from tensorflow.keras.regularizers import l2\n",
    "from tensorflow.keras.layers import Input, GaussianNoise, GlobalAveragePooling2D, Dense, BatchNormalization, Dropout\n",
    "from tensorflow.keras.models import Sequential, Model\n",
    "import tensorflow as tf\n",
    "\n",
    "\n",
    "base_model = tf.keras.applications.EfficientNetB2(weights='imagenet', input_shape=(224,224,3), include_top=False)\n",
    "\n",
    "for layer in base_model.layers:\n",
    "    layer.trainable=False\n",
    "\n",
    "# Define the input layer explicitly\n",
    "input_tensor = Input(shape=(224, 224, 3))\n",
    "\n",
    "# Pass the input tensor to the base model\n",
    "x = base_model(input_tensor, training=False)  # Set training=False for inference\n",
    "\n",
    "# Add the remaining layers\n",
    "x = GaussianNoise(0.35)(x)\n",
    "x = GlobalAveragePooling2D()(x)\n",
    "x = Dense(256,activation='relu')(x)\n",
    "x = BatchNormalization()(x)\n",
    "x = GaussianNoise(0.35)(x)\n",
    "x = Dropout(0.2)(x)\n",
    "output_tensor = Dense(4, activation='softmax')(x)\n",
    "\n",
    "# Create the final model\n",
    "model = Model(inputs=input_tensor, outputs=output_tensor)\n",
    "\n",
    "model.summary()\n"
   ]
  },
  {
   "cell_type": "code",
   "execution_count": null,
   "metadata": {},
   "outputs": [],
   "source": [
    "model.compile(optimizer='adam',loss='categorical_crossentropy', metrics=['accuracy','Precision','Recall','AUC'])\n",
    "model.compile(optimizer='adam',loss='categorical_crossentropy', metrics=['accuracy','Precision','Recall','AUC'])\n"
   ]
  },
  {
   "cell_type": "code",
   "execution_count": null,
   "metadata": {},
   "outputs": [],
   "source": [
    "history = model.fit(\n",
    "    train_generator,\n",
    "    steps_per_epoch=20, #steps_per_epoch= training_images/batch_size= 3200/32<=200\n",
    "    epochs = 20, #own choice\n",
    "    validation_data = validation_generator\n",
    ")"
   ]
  }
 ],
 "metadata": {
  "kernelspec": {
   "display_name": "Python 3",
   "language": "python",
   "name": "python3"
  },
  "language_info": {
   "codemirror_mode": {
    "name": "ipython",
    "version": 3
   },
   "file_extension": ".py",
   "mimetype": "text/x-python",
   "name": "python",
   "nbconvert_exporter": "python",
   "pygments_lexer": "ipython3",
   "version": "3.12.3"
  }
 },
 "nbformat": 4,
 "nbformat_minor": 2
}
